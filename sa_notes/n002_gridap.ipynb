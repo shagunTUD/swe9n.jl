{
 "cells": [
  {
   "cell_type": "markdown",
   "metadata": {},
   "source": [
    "# To Do"
   ]
  },
  {
   "cell_type": "markdown",
   "metadata": {},
   "source": [
    "List of things to-do\n",
    "\n",
    "- [ ] Checkout Gridap.jl/test/ODEsTests/DiffEqsWrappersTests [link](#s002_1)\n",
    "\n",
    "\n",
    "---"
   ]
  },
  {
   "cell_type": "markdown",
   "metadata": {},
   "source": [
    "### DiffEqsWrappersTests <a id='s002_1'> </a>"
   ]
  },
  {
   "cell_type": "markdown",
   "metadata": {},
   "source": [
    "There is another package called `differentialEqs` or something like that which is useful for solving higher order time-deriv and RK4 time-stepping methods and so on. <br>\n",
    "Gridap has a wrapper for this library. <br>\n",
    "Checkout the tests for this wrapper and see if you can use this library.\n",
    "\n",
    "---"
   ]
  },
  {
   "cell_type": "markdown",
   "metadata": {},
   "source": [
    "---\n",
    "---"
   ]
  },
  {
   "cell_type": "markdown",
   "metadata": {},
   "source": [
    "# Note"
   ]
  },
  {
   "cell_type": "markdown",
   "metadata": {},
   "source": [
    "### Note-1: Weak-form, the variables are functions"
   ]
  },
  {
   "cell_type": "markdown",
   "metadata": {},
   "source": [
    "Consider the weak form of the NLSWE. <br>\n",
    "In Gridap it will be written in the following form."
   ]
  },
  {
   "cell_type": "code",
   "execution_count": null,
   "metadata": {},
   "outputs": [],
   "source": [
    "res(t, (η, u), (ψ1, ψ2)) =\n",
    "        ∫( ∂t(η)*ψ1 - (∇(ψ1)⋅(u*(h0+η))) )*dΩ + \n",
    "        ∫( ∂t(u)⋅ψ2 + (∇(u)'⋅u)⋅ψ2 + (∇(η)⋅ψ2)*g )*dΩ"
   ]
  },
  {
   "cell_type": "markdown",
   "metadata": {},
   "source": [
    "Here, each of the variables such as &eta;, h0, u, represent a function which will interpolate the repective value onto a continous space, based on the FESpace. <br>\n",
    "Hence, the weak form is written so as to compute the value of the residual at the Gauu quadrature point.\n",
    "\n",
    "For Example, consider the following simple weak form term.\n",
    "$$\n",
    "\\int_\\Omega  u  d\\Omega\n",
    "$$\n",
    "\n",
    "Here the procedure in the code will be following\n",
    "\n",
    "- Go to the quadrature point `qp` in the cell\n",
    "- Calculate the value $u(qp) = \\sum_i Q_i u_i$ <br> where $u_i$ corresponds to the values of u at the vertices and $Q_i$ is the quadrature weight. \n",
    "- Therefore, the term in the weak form corresponds to a function `u` which will calculate the required value at the quadrature point.\n",
    "\n",
    "Hence, if you have to evluate the following term\n",
    "$$\n",
    "\\int_\\Omega  u(h+\\eta)  d\\Omega\n",
    "$$\n",
    "then you have to think along the following way.\n",
    "\n",
    "- Go to the quadrature point `qp` in the cell\n",
    "- Calculate the value $u(qp) = \\sum_i Q_i u_i (h_i + \\eta_i)$ <br> where $u_i$, $h_i$, $\\eta_i$ corresponds to the values of u, h, &eta; at the vertices and $Q_i$ is the quadrature weight. \n",
    "- Hence the equivalent Gridap weak form will be  <br> `res(t, (η, u), (ψ1, ψ2)) = ∫( u*(h0+η) )*dΩ `\n",
    "- The above procedure requires that u, h0 and &eta; are FESpaceFieldFnc. Only then will it be able to construct the required interpolation function to evluate the value at the quadrature point.\n",
    "- This form is hence very simple. You do not need to think along the lines of arrays containing FEM nodes or anything like that."
   ]
  },
  {
   "cell_type": "markdown",
   "metadata": {},
   "source": [
    "---\n",
    "---"
   ]
  },
  {
   "cell_type": "markdown",
   "metadata": {},
   "source": [
    "# Gridap Tutorials"
   ]
  },
  {
   "cell_type": "markdown",
   "metadata": {},
   "source": [
    "The following tutorials were important\n",
    "\n",
    "1. t015_interpolation_fe \n",
    "    - Needed for learning how to do interpolation of a FESpace at any random point. \n",
    "    - Also required for interpolating between two different FESpaces.\n",
    "        - This will be useful in formulating random bathymetry problems. <br>\n",
    "1. t001_poisson\n",
    "    - Poisson eqn soln\n",
    "1. t002_validation\n",
    "    - Understanding convergence analysis calls\n",
    "    - Basics of plotting\n",
    "1. t017_poisson_transient\n",
    "    - Soln of transient problems"
   ]
  },
  {
   "cell_type": "markdown",
   "metadata": {},
   "source": [
    "# List of Gridap Methods, Types and Functions "
   ]
  },
  {
   "cell_type": "markdown",
   "metadata": {},
   "source": [
    "Listing down the various methods (M), types (T) and functions (f) from Julia as I encounter them.\n",
    "\n",
    "|  SN | call | Desc | Remarks |\n",
    "| --- | ---- | ---- | ------- |\n",
    "| T-001 |  DiscreteModelFromFile(\"filename.json\") | Import FE Mesh from file |   |\n",
    "| T-002 | ReferenceFE(lagrangian,Float64,order) | Sets the type of the test / trial fnc |   |\n",
    "| F-001 | TestFESpace | Results in the Test function | Args are (model, refFe; conformity=:H1, dirichlet_tags=\"sides\") |\n",
    "| F-002 | TrialFESpace | Results in the trial function |  |\n",
    "| T-003 | Triangulation() <br> same as <br> Interior() | Create an object for formulating the numerical integration |  |\n",
    "| T-004 | BoundaryTriangulation() <br> same as <br> Boundary() | Create an object for formulating the numerical integration at boundary faces |  |\n",
    "| T-008 | Skeleton | For a space in dimension D, it returns the non-bnd entities of dimension d-1 | **NOTE** <br>Skeleton is more than a Triangulation! It contains a left and a right triangulation, hence useful for the jump (discontinuity) terms |\n",
    "| T-005 | Measure | Object with domain integ for each element, based on the quadrature rule that you specify. <br> For the quadrature degree check this [reference](https://en.wikipedia.org/wiki/Gaussian_quadrature)  | arg(TriangulationObj, degree) |\n",
    "| T-006 | AffineFEOperator | Sets up the AX=B for the linear FE problem. |  |\n",
    "| F-003 | &nabla; | A Gridap function that associates the function f with gradient of f |  |\n",
    "| T-007 | CartesianDiscreteModel | Available from Gridap. Generate a Cartesian grid |  |\n",
    "\n",
    "T-008 <br> F-003"
   ]
  },
  {
   "cell_type": "markdown",
   "metadata": {},
   "source": [
    "---\n",
    "---"
   ]
  },
  {
   "cell_type": "markdown",
   "metadata": {},
   "source": [
    "# List of Macros"
   ]
  },
  {
   "cell_type": "markdown",
   "metadata": {},
   "source": [
    "|  SN | call | Desc | Remarks |\n",
    "| --- | ---- | ---- | ------- |\n",
    "| Ma-001 | @assert |   |   |\n",
    "| Ma-002 | @check |   |   |\n",
    "| Ma-003 | @eval  |   |   |\n",
    "| Ma-003 | @inbounds  |   |   |\n",
    "| Ma-004 | @test |   |   |\n",
    "| Ma-005 | @notimplemented |   |   |\n"
   ]
  },
  {
   "cell_type": "markdown",
   "metadata": {},
   "source": [
    "---\n",
    "---"
   ]
  },
  {
   "cell_type": "markdown",
   "metadata": {},
   "source": [
    "# Math and Algebra Operations"
   ]
  },
  {
   "cell_type": "markdown",
   "metadata": {},
   "source": [
    "## Backslash operator A \\ b"
   ]
  },
  {
   "cell_type": "markdown",
   "metadata": {},
   "source": [
    "Refere to this [link](https://stanford.edu/class/engr108/lectures/julia_inverses_slides.pdf) regarding the backslash operator and its functions when `A` is a square, tall or wide matrix in `Ax = b`\n",
    "\n",
    "**Note**: `A` does not have to be square!\n",
    "\n",
    "|     |\n",
    "| --- |\n",
    "| <img width=\"100%\" src=\"./img/s002_p01_backslash01.png\" /> |\n",
    "| <img width=\"100%\" src=\"./img/s002_p01_backslash02.png\" /> |\n",
    "|  |\n",
    "\n",
    "\n",
    "---"
   ]
  },
  {
   "cell_type": "markdown",
   "metadata": {},
   "source": [
    "\n",
    "## Function composition (Adding two functions)"
   ]
  },
  {
   "cell_type": "markdown",
   "metadata": {},
   "source": [
    "Check this important feature of Julia. <br>\n",
    "https://docs.julialang.org/en/v1/manual/functions/#Function-composition-and-piping <br>\n",
    "It is written as `\\circ`. <br>\n",
    "\n",
    "This was crucial for some operations. <br>\n",
    "For example, while running `BeamMultJoints_freq.jl`, I was getting the final soln with the following statement, where all quantities `(ϕₕ,κₕ,ηₕ)` are CellFieldFunctions with complex values `(a+ib)`. <br>\n",
    "But when I tried to get the angle of the complex number using `angle(ϕₕ)`, it gave me the following error.\n",
    "```\n",
    "LoadError: MethodError: no method matching angle(::Gridap.FESpaces.SingleFieldFEFunction{Gridap.CellData.GenericCellField{Gridap.CellData.ReferenceDomain}})\n",
    "Closest candidates are:\n",
    "  angle(::Real) at number.jl:214\n",
    "  angle(::Complex) at complex.jl:627\n",
    "```\n",
    "\n",
    "This is because `angle()` was not defined for CellFieldFunction. <br>\n",
    "So instead you can use `angle∘(ϕₕ)`.\n",
    "The composition operator then forces angle and the lazy map of CellFieldFunction to evaluate the quantities at every node and hence works.\n",
    "\n",
    "---"
   ]
  },
  {
   "cell_type": "markdown",
   "metadata": {},
   "source": [
    "---\n",
    "---"
   ]
  },
  {
   "cell_type": "markdown",
   "metadata": {},
   "source": [
    "# Geometry elements"
   ]
  },
  {
   "cell_type": "markdown",
   "metadata": {},
   "source": [
    "Refer to `t003_elasticity.ipynb` regarding the commands in this section.\n",
    "\n",
    "Use the following command `get_face_labeling` to get list of elements with different number of face."
   ]
  },
  {
   "cell_type": "code",
   "execution_count": 3,
   "metadata": {},
   "outputs": [
    {
     "data": {
      "text/plain": [
       "FaceLabeling:\n",
       " 0-faces: 10257\n",
       " 1-faces: 57596\n",
       " 2-faces: 87482\n",
       " 3-faces: 40144\n",
       " tags: 6\n",
       " entities: 611"
      ]
     },
     "metadata": {},
     "output_type": "display_data"
    }
   ],
   "source": [
    "using Gridap\n",
    "using Gridap.Geometry\n",
    "\n",
    "model = DiscreteModelFromFile(\"../models//solid.json\")\n",
    "\n",
    "labels = get_face_labeling(model)"
   ]
  },
  {
   "cell_type": "markdown",
   "metadata": {},
   "source": [
    "Here the 0 faces indicate (I think) the number of nodes, 1 face is edges, 2 face is sides and 3-face is the elements.\n",
    "\n",
    "If you want to list down all entities with 3-faces then do the following."
   ]
  },
  {
   "cell_type": "code",
   "execution_count": 4,
   "metadata": {},
   "outputs": [
    {
     "data": {
      "text/plain": [
       "40144-element Vector{Int8}:\n",
       " 5\n",
       " 5\n",
       " 5\n",
       " 5\n",
       " 5\n",
       " 5\n",
       " 5\n",
       " 5\n",
       " 5\n",
       " 5\n",
       " ⋮\n",
       " 6\n",
       " 6\n",
       " 6\n",
       " 6\n",
       " 6\n",
       " 6\n",
       " 6\n",
       " 6\n",
       " 6"
      ]
     },
     "metadata": {},
     "output_type": "display_data"
    }
   ],
   "source": [
    "tags = get_face_tag(labels, 3)"
   ]
  },
  {
   "cell_type": "markdown",
   "metadata": {},
   "source": [
    "Previous lines generate a vector, namely `tags`, whose length is the number of cells in the model and for each cell contains an integer that identifies the material of the cell. <br>\n",
    "The tutoruial was meant to use two different materials (alu and steel) in different cells, hence each cell is marked with two different integer value to identify them as alu or steel."
   ]
  },
  {
   "cell_type": "markdown",
   "metadata": {},
   "source": [
    "---\n",
    "---"
   ]
  }
 ],
 "metadata": {
  "kernelspec": {
   "display_name": "Julia 1.8.2",
   "language": "julia",
   "name": "julia-1.8"
  },
  "language_info": {
   "file_extension": ".jl",
   "mimetype": "application/julia",
   "name": "julia",
   "version": "1.8.2"
  },
  "orig_nbformat": 4
 },
 "nbformat": 4,
 "nbformat_minor": 2
}
