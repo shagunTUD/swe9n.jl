{
 "cells": [
  {
   "cell_type": "markdown",
   "metadata": {},
   "source": [
    "# Math Notes"
   ]
  },
  {
   "cell_type": "markdown",
   "metadata": {},
   "source": [
    "## Dot Product"
   ]
  },
  {
   "cell_type": "markdown",
   "metadata": {},
   "source": [
    "| <img width=\"100%\" src=\"./img/s003_p01_dotProduct.jpg\" /> |\n",
    "| ----- |\n",
    "| Notes on Dot Product |\n"
   ]
  },
  {
   "cell_type": "markdown",
   "metadata": {},
   "source": [
    "---\n",
    "---"
   ]
  },
  {
   "cell_type": "markdown",
   "metadata": {},
   "source": [
    "## Generalised &alpha; Method"
   ]
  },
  {
   "cell_type": "markdown",
   "metadata": {},
   "source": [
    "References were\n",
    "\n",
    "1. Youtube video [link](https://www.youtube.com/watch?v=wUsTSm-DY1g&t=1s&ab_channel=ComputationalDynamics)\n",
    "1. Implementation in another Julia package [link](https://kailaix.github.io/ADCME.jl/latest/alphascheme/)\n",
    "1. Website [link](https://miaodi.github.io/finite%20element%20method/newmark-generalized/)\n",
    "1. Chung, J., Hulbert, G.M., 1993. A Time Integration Algorithm for Structural Dynamics With Improved Numerical Dissipation: The Generalized-α Method. Journal of Applied Mechanics 60, 371–375. https://doi.org/10.1115/1.2900803\n",
    "1. Jansen, K.E., Whiting, C.H., Hulbert, G.M., 2000. A generalized-α method for integrating the filtered Navier–Stokes equations with a stabilized finite element method. Computer Methods in Applied Mechanics and Engineering 190, 305–319. https://doi.org/10.1016/S0045-7825(00)00203-6\n",
    "1. Solving transient PDEs with Gridap.jl, 2022.\n",
    "\n",
    "\n",
    "\n",
    "|     |\n",
    "| --- |\n",
    "| <img width=\"100%\" src=\"./img/s004_genAlpha_1storder_1.jpg\" /> |\n",
    "| <img width=\"100%\" src=\"./img/s004_genAlpha_2ndorder_1.jpg\" /> |\n",
    "| <img width=\"100%\" src=\"./img/s004_genAlpha_2ndorder_2.jpg\" /> |\n",
    "| <img width=\"100%\" src=\"./img/s004_genAlpha_2ndorder_3.jpg\" /> |\n",
    "| <img width=\"100%\" src=\"./img/s004_genAlpha_2ndorder_4.jpg\" /> |"
   ]
  },
  {
   "cell_type": "markdown",
   "metadata": {},
   "source": [
    "---\n",
    "---"
   ]
  }
 ],
 "metadata": {
  "kernelspec": {
   "display_name": "Julia 1.8.2",
   "language": "julia",
   "name": "julia-1.8"
  },
  "language_info": {
   "file_extension": ".jl",
   "mimetype": "application/julia",
   "name": "julia",
   "version": "1.8.2"
  }
 },
 "nbformat": 4,
 "nbformat_minor": 2
}
