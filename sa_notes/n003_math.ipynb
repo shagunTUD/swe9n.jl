{
 "cells": [
  {
   "cell_type": "markdown",
   "metadata": {},
   "source": [
    "# Math Notes"
   ]
  },
  {
   "cell_type": "markdown",
   "metadata": {},
   "source": [
    "## Dot Product"
   ]
  },
  {
   "cell_type": "markdown",
   "metadata": {},
   "source": [
    "| <img width=\"100%\" src=\"./img/s003_p01_dotProduct.jpg\" /> |\n",
    "| ----- |\n",
    "| Notes on Dot Product |\n"
   ]
  },
  {
   "cell_type": "markdown",
   "metadata": {},
   "source": [
    "---\n",
    "---"
   ]
  },
  {
   "cell_type": "markdown",
   "metadata": {},
   "source": [
    "## Generalised &alpha; Method"
   ]
  },
  {
   "cell_type": "markdown",
   "metadata": {},
   "source": [
    "References were\n",
    "\n",
    "1. Youtube video [link](https://www.youtube.com/watch?v=wUsTSm-DY1g&t=1s&ab_channel=ComputationalDynamics)\n",
    "1. Implementation in another Julia package [link](https://kailaix.github.io/ADCME.jl/latest/alphascheme/)\n",
    "1. Website [link](https://miaodi.github.io/finite%20element%20method/newmark-generalized/)\n",
    "1. Shearer, C., Cesnik, C., 2006. Modified Generalized Alpha Method for Integrating Governing Equations of Very Flexible Aircraft, in: 47th AIAA/ASME/ASCE/AHS/ASC Structures, Structural Dynamics, and Materials Conference https://doi.org/10.2514/6.2006-1747\n",
    "1. Solving transient PDEs with Gridap.jl, 2022.\n",
    "\n",
    "\n",
    "\n",
    "|     |\n",
    "| --- |\n",
    "| <img width=\"100%\" src=\"./img/s004_genAlpha_1storder_1.jpg\" /> |\n",
    "| <img width=\"100%\" src=\"./img/s004_genAlpha_2ndorder_1.jpg\" /> |\n",
    "| <img width=\"100%\" src=\"./img/s004_genAlpha_2ndorder_2.jpg\" /> |\n",
    "| <img width=\"100%\" src=\"./img/s004_genAlpha_2ndorder_3.jpg\" /> |\n",
    "| <img width=\"100%\" src=\"./img/s004_genAlpha_2ndorder_4.jpg\" /> |"
   ]
  },
  {
   "cell_type": "markdown",
   "metadata": {},
   "source": [
    "---\n",
    "---"
   ]
  }
 ],
 "metadata": {
  "kernelspec": {
   "display_name": "Julia 1.8.2",
   "language": "julia",
   "name": "julia-1.8"
  },
  "language_info": {
   "file_extension": ".jl",
   "mimetype": "application/julia",
   "name": "julia",
   "version": "1.8.2"
  }
 },
 "nbformat": 4,
 "nbformat_minor": 2
}
