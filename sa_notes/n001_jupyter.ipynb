{
 "cells": [
  {
   "cell_type": "markdown",
   "id": "0f781c09",
   "metadata": {},
   "source": [
    "# Jupyter notebook notes\n",
    "\n",
    "My notes on how to use jupyter notebooks\n",
    "\n",
    "### Step-1 : Install IJulia\n",
    "IJulia is Julia language backend combined with Jupyter notebooks.\n",
    "Add this package in Julia, as mentioned in [link](https://github.com/JuliaLang/IJulia.jl#quick-start) first. This will also configure the Julia kernel for Jupyter notebooks.\n",
    "\n",
    "### Step-2 : Install Jupyter Notebooks\n",
    "Install Jupyter Notebook from the following link <br>\n",
    "https://jupyter.org/install <br>\n",
    "Now you can launch Jupyter notebooks from anywhere. <br>\n",
    "In IJulia you had to launch Jupyter notebook from within Julia.\n",
    "\n",
    "### Step-3 : Install IJulia\n",
    "If you have done Step-1 then this step is mostly not required.\n",
    "You will then need to configure Julia kernel for Jupyter. <br>\n",
    "https://jupyter-client.readthedocs.io/en/latest/kernels.html#kernelspecs\n",
    "\n",
    "\n",
    "The tutorial is from the following link <br>\n",
    "https://www.dataquest.io/blog/jupyter-notebook-tutorial/\n",
    "\n",
    "### Step-4 : VS Code\n",
    "After doing all this, if I try to use it in VS code, it just works by opening the folder and a notebook in VS Code.\n",
    "\n",
    "\n",
    "## Shortcuts in Jupyter\n",
    "\n",
    "Below, you’ll find a list of some of Jupyter’s keyboard shortcuts. You don’t need to memorize them all immediately, but this list should give you a good idea of what’s possible.\n",
    "\n",
    "- Toggle between edit and command mode with `Esc` and `Enter`, respectively.\n",
    "- Once in command mode:\n",
    "- Scroll up and down your cells with your Up and Down keys.\n",
    "- Press `A` or `B` to insert a new cell above or below the active cell.\n",
    "- `M` will transform the active cell to a Markdown cell.\n",
    "- `Y` will set the active cell to a code cell.\n",
    "- `D + D` (D twice) will delete the active cell.\n",
    "- `Z` will undo cell deletion.\n",
    "- Hold Shift and press Up or Down to select multiple cells at once. With multiple cells selected, Shift + M will merge your selection.\n",
    "- Ctrl + Shift + -, in edit mode, will split the active cell at the cursor.\n",
    "- You can also click and Shift + Click in the margin to the left of your cells to select them."
   ]
  }
 ],
 "metadata": {
  "kernelspec": {
   "display_name": "Julia 1.8.2",
   "language": "julia",
   "name": "julia-1.8"
  },
  "language_info": {
   "file_extension": ".jl",
   "mimetype": "application/julia",
   "name": "julia",
   "version": "1.8.2"
  }
 },
 "nbformat": 4,
 "nbformat_minor": 5
}
