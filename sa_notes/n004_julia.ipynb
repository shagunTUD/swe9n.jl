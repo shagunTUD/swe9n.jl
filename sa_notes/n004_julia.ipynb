{
 "cells": [
  {
   "cell_type": "markdown",
   "metadata": {},
   "source": [
    "# Julia Notes"
   ]
  },
  {
   "cell_type": "markdown",
   "metadata": {},
   "source": [
    "## Important functions"
   ]
  },
  {
   "attachments": {},
   "cell_type": "markdown",
   "metadata": {},
   "source": [
    "| SN  | fnc | desc | \n",
    "| --- | --- | ---- |\n",
    "| 1 | varinfo() | List all variables and methods in the global scope |\n",
    "| 2 | Base.@locals | List all local variables and methods |\n",
    "| 3 | `collect(lazyArray)` (or) `[lazyArray;]` | Converts a lazyArray into an array. For example lz = range(0,15.4,11) gives a lazy array lz. `collect(lz)` or [lz;] will convert this into an array. |"
   ]
  },
  {
   "cell_type": "markdown",
   "metadata": {},
   "source": [
    "---\n",
    "---"
   ]
  }
 ],
 "metadata": {
  "kernelspec": {
   "display_name": "Python 3.8.10 64-bit",
   "language": "python",
   "name": "python3"
  },
  "language_info": {
   "name": "python",
   "version": "3.8.10"
  },
  "orig_nbformat": 4,
  "vscode": {
   "interpreter": {
    "hash": "916dbcbb3f70747c44a77c7bcd40155683ae19c65e1c03b4aa3499c5328201f1"
   }
  }
 },
 "nbformat": 4,
 "nbformat_minor": 2
}
